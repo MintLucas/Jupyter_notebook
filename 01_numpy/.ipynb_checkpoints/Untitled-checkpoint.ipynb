{
 "cells": [
  {
   "cell_type": "code",
   "execution_count": 69,
   "metadata": {
    "collapsed": false
   },
   "outputs": [
    {
     "name": "stdout",
     "output_type": "stream",
     "text": [
      "[array([[0, 1],\n",
      "       [4, 5],\n",
      "       [8, 9]]), array([[ 2,  3],\n",
      "       [ 6,  7],\n",
      "       [10, 11]])]\n",
      "[ 0  1  2  3  4  5  6  7  8  9 10 11]\n",
      "[0 1 2 3]\n",
      "[4 5 6 7]\n",
      "[ 8  9 10 11]\n",
      "(3,) (3, 1) (1, 3)\n"
     ]
    }
   ],
   "source": [
    "import numpy as np\n",
    "a = np.arange(12).reshape((3,4))#和linspace区别，linspace包含端点，最后一个参数是点数\n",
    "print(np.split(a,2,axis=1))#np.array_split不等分割\n",
    "print(a.flatten())#展平，a.flat为迭代器（实现了_init_和next()的）\n",
    "for row in a:#索引，按行\n",
    "    print(row)\n",
    "c = np.array([1,2,3])\n",
    "c_1 = c[:,np.newaxis]#列加一维，用reshape(3,1)更方便\n",
    "c_2 = np.array([1,2,3])[np.newaxis,:]\n",
    "#print(a.ndim,a.dtype)\n",
    "print(c.shape,c_1.shape,c_2.shape)"
   ]
  },
  {
   "cell_type": "code",
   "execution_count": 94,
   "metadata": {
    "collapsed": false
   },
   "outputs": [
    {
     "name": "stdout",
     "output_type": "stream",
     "text": [
      "0    1.0\n",
      "1    3.0\n",
      "2    5.0\n",
      "3    NaN\n",
      "dtype: float64\n",
      "DatetimeIndex(['2018-12-13', '2018-12-14', '2018-12-15', '2018-12-16',\n",
      "               '2018-12-17', '2018-12-18'],\n",
      "              dtype='datetime64[ns]', freq='D')\n",
      "                 1.0       3.0       5.0      NaN \n",
      "2018-12-13 -1.214403  0.733983  0.239556  0.553137\n",
      "2018-12-14  0.575422 -0.736223 -0.154999  0.691557\n",
      "2018-12-15 -0.183101 -1.309656  0.053658 -0.218660\n",
      "2018-12-16  1.048056  1.351210  1.116035  0.137957\n",
      "2018-12-17 -0.579671 -2.291099 -0.772090  0.434910\n",
      "2018-12-18 -0.865197  0.039990  0.000520  0.565481\n",
      "                 5.0       3.0       1.0      NaN \n",
      "2018-12-13  0.239556  0.733983 -1.214403  0.553137\n",
      "2018-12-14 -0.154999 -0.736223  0.575422  0.691557\n",
      "2018-12-15  0.053658 -1.309656 -0.183101 -0.218660\n",
      "2018-12-16  1.116035  1.351210  1.048056  0.137957\n",
      "2018-12-17 -0.772090 -2.291099 -0.579671  0.434910\n",
      "2018-12-18  0.000520  0.039990 -0.865197  0.565481\n"
     ]
    },
    {
     "data": {
      "text/html": [
       "<div>\n",
       "<style scoped>\n",
       "    .dataframe tbody tr th:only-of-type {\n",
       "        vertical-align: middle;\n",
       "    }\n",
       "\n",
       "    .dataframe tbody tr th {\n",
       "        vertical-align: top;\n",
       "    }\n",
       "\n",
       "    .dataframe thead th {\n",
       "        text-align: right;\n",
       "    }\n",
       "</style>\n",
       "<table border=\"1\" class=\"dataframe\">\n",
       "  <thead>\n",
       "    <tr style=\"text-align: right;\">\n",
       "      <th></th>\n",
       "      <th>1.0</th>\n",
       "      <th>3.0</th>\n",
       "      <th>5.0</th>\n",
       "      <th>nan</th>\n",
       "    </tr>\n",
       "  </thead>\n",
       "  <tbody>\n",
       "    <tr>\n",
       "      <th>count</th>\n",
       "      <td>6.000000</td>\n",
       "      <td>6.000000</td>\n",
       "      <td>6.000000</td>\n",
       "      <td>6.000000</td>\n",
       "    </tr>\n",
       "    <tr>\n",
       "      <th>mean</th>\n",
       "      <td>-0.203149</td>\n",
       "      <td>-0.368633</td>\n",
       "      <td>0.080447</td>\n",
       "      <td>0.360730</td>\n",
       "    </tr>\n",
       "    <tr>\n",
       "      <th>std</th>\n",
       "      <td>0.868884</td>\n",
       "      <td>1.345891</td>\n",
       "      <td>0.614348</td>\n",
       "      <td>0.340356</td>\n",
       "    </tr>\n",
       "    <tr>\n",
       "      <th>min</th>\n",
       "      <td>-1.214403</td>\n",
       "      <td>-2.291099</td>\n",
       "      <td>-0.772090</td>\n",
       "      <td>-0.218660</td>\n",
       "    </tr>\n",
       "    <tr>\n",
       "      <th>25%</th>\n",
       "      <td>-0.793815</td>\n",
       "      <td>-1.166298</td>\n",
       "      <td>-0.116119</td>\n",
       "      <td>0.212196</td>\n",
       "    </tr>\n",
       "    <tr>\n",
       "      <th>50%</th>\n",
       "      <td>-0.381386</td>\n",
       "      <td>-0.348117</td>\n",
       "      <td>0.027089</td>\n",
       "      <td>0.494023</td>\n",
       "    </tr>\n",
       "    <tr>\n",
       "      <th>75%</th>\n",
       "      <td>0.385791</td>\n",
       "      <td>0.560484</td>\n",
       "      <td>0.193082</td>\n",
       "      <td>0.562395</td>\n",
       "    </tr>\n",
       "    <tr>\n",
       "      <th>max</th>\n",
       "      <td>1.048056</td>\n",
       "      <td>1.351210</td>\n",
       "      <td>1.116035</td>\n",
       "      <td>0.691557</td>\n",
       "    </tr>\n",
       "  </tbody>\n",
       "</table>\n",
       "</div>"
      ],
      "text/plain": [
       "            1.0       3.0       5.0      NaN \n",
       "count  6.000000  6.000000  6.000000  6.000000\n",
       "mean  -0.203149 -0.368633  0.080447  0.360730\n",
       "std    0.868884  1.345891  0.614348  0.340356\n",
       "min   -1.214403 -2.291099 -0.772090 -0.218660\n",
       "25%   -0.793815 -1.166298 -0.116119  0.212196\n",
       "50%   -0.381386 -0.348117  0.027089  0.494023\n",
       "75%    0.385791  0.560484  0.193082  0.562395\n",
       "max    1.048056  1.351210  1.116035  0.691557"
      ]
     },
     "execution_count": 94,
     "metadata": {},
     "output_type": "execute_result"
    }
   ],
   "source": [
    "import pandas as pd\n",
    "#相当于一维array，类似feed_dict\n",
    "s = pd.Series([1,3,5,np.nan])\n",
    "print(s)\n",
    "dates = pd.date_range('20181213',periods=6)#生成6个数据,用给的Index\n",
    "print(dates)\n",
    "#相当于matrix\n",
    "df = pd.DataFrame(np.random.randn(6,4),index=dates,columns=s)\n",
    "print(df)\n",
    "print(df.sort_index(axis=1,ascending=False))\n",
    "df.sort_values(by=3)\n",
    "#直接算各种信息\n",
    "df.describe()\n"
   ]
  }
 ],
 "metadata": {
  "anaconda-cloud": {},
  "kernelspec": {
   "display_name": "Python [conda env:tensorflow]",
   "language": "python",
   "name": "conda-env-tensorflow-py"
  },
  "language_info": {
   "codemirror_mode": {
    "name": "ipython",
    "version": 3
   },
   "file_extension": ".py",
   "mimetype": "text/x-python",
   "name": "python",
   "nbconvert_exporter": "python",
   "pygments_lexer": "ipython3",
   "version": "3.6.2"
  }
 },
 "nbformat": 4,
 "nbformat_minor": 1
}
