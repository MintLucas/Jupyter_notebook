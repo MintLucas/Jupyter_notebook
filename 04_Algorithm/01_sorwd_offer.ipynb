{
 "cells": [
  {
   "cell_type": "code",
   "execution_count": null,
   "metadata": {
    "collapsed": true
   },
   "outputs": [],
   "source": [
    "//第一个大于，给一个数组，我们肉眼去扫寻的话，眼球肯定是从左边往右边扫最快，因此用l向右收敛\n",
    "while(l<=r)\n",
    "{\n",
    "    m=l+(r-l)/2;\n",
    "    if(a[m]<=t) l=m+1;  //未达到FLAG,区间向右收敛\n",
    "    else if(a[m]>t)r=m-1;  //触发FLAG,怂，退回来\n",
    "}\n",
    "return l>R?-1:l;        //假设所有的数字都小于等于t，也就是永远触发不了FLAG，\n"
   ]
  },
  {
   "cell_type": "code",
   "execution_count": 78,
   "metadata": {
    "collapsed": false
   },
   "outputs": [
    {
     "name": "stdout",
     "output_type": "stream",
     "text": [
      "test_in_class\n",
      "test_out_class\n",
      "1\n"
     ]
    }
   ],
   "source": [
    "class Solution:\n",
    "    def test_in_class():\n",
    "        print('test_in_class')\n",
    "        \n",
    "    def biSearch(self, array, k):\n",
    "        low = 0\n",
    "        high = len(array) - 1\n",
    "        Solution.test_in_class()\n",
    "        test_out_class()\n",
    "        while(low <= high):#跳出时low>high\n",
    "            mid = low + (high - low)//2\n",
    "            if k == array[mid]:\n",
    "                return mid\n",
    "            if k < array[mid]:\n",
    "                high = mid - 1\n",
    "            else:\n",
    "                low = mid + 1\n",
    "        return low\n",
    "def test_out_class():\n",
    "    print('test_out_class')\n",
    "\n",
    "if __name__ == '__main__':    \n",
    "    a = Solution()\n",
    "    print(a.biSearch([1,2],2))"
   ]
  },
  {
   "cell_type": "code",
   "execution_count": 71,
   "metadata": {
    "collapsed": false
   },
   "outputs": [
    {
     "name": "stdout",
     "output_type": "stream",
     "text": [
      "3 5\n"
     ]
    },
    {
     "data": {
      "text/plain": [
       "-1"
      ]
     },
     "execution_count": 71,
     "metadata": {},
     "output_type": "execute_result"
    }
   ],
   "source": [
    "def getFirst(data, k):\n",
    "    low = 0\n",
    "    high = len(data) - 1\n",
    "    while(low<=high):\n",
    "        mid = low + (high - low)//2\n",
    "        #从左往右，考虑上溢出(need:low < len(data))，考虑小数时找不到(need:data[low]==k),return low\n",
    "        #target:找大于等于k的第一个数\n",
    "        #method:不满足(data[mid]<k)则继续前进\n",
    "        if data[mid] < k:\n",
    "            low = mid + 1\n",
    "        else:\n",
    "            high = mid - 1\n",
    "    print(low,len(data))\n",
    "    return low if low < len(data) and data[low] == k else -1\n",
    "data = [1,2,2,3,4]\n",
    "getFirst(data,2.2)"
   ]
  },
  {
   "cell_type": "code",
   "execution_count": 90,
   "metadata": {
    "collapsed": false
   },
   "outputs": [
    {
     "name": "stdout",
     "output_type": "stream",
     "text": [
      "1\n"
     ]
    }
   ],
   "source": [
    "class Solution:\n",
    "    def GetNumberOfK(self, data, k):\n",
    "        # write code here\n",
    "        left = self.getFirst(data,k)\n",
    "        right = self.getLast(data,k)\n",
    "        #返回左右下标间k值的个数，都找不到返回0\n",
    "        return right - left + 1 if left != -1 and right != -1 else 0\n",
    "    \n",
    "    #返回数组data中第一个值为k的下标，找不到为-1\n",
    "    def getFirst(self,data, k):\n",
    "        low = 0\n",
    "        high = len(data) - 1\n",
    "        while(low<=high):\n",
    "            #从左向右，考虑上溢出(need:low < len(data))，考虑小数时找不到(need:data[low]==k),return low\n",
    "            #target:找大于等于k的第一个数\n",
    "            #method:不满足(data[mid]<k)则继续前进\n",
    "            mid = low + (high - low)//2\n",
    "            if data[mid] < k:\n",
    "                low = mid + 1\n",
    "            else:\n",
    "                high = mid - 1\n",
    "        return low if low < len(data) and data[low] == k else -1\n",
    "    \n",
    "    #返回数组data中最后一个值为k的下标，找不到为-1\n",
    "    def getLast(self,data, k):\n",
    "        low = 0\n",
    "        high = len(data) - 1\n",
    "        while(low<=high):\n",
    "            #从右向左，考虑下溢出(need:high > -1)，考虑小数时找不到(need:data[high]==k),return high\n",
    "            #target:找小于等于k的第一个数\n",
    "            #method:不满足(data[mid]>k)则继续前进\n",
    "            mid = low + (high - low)//2\n",
    "            if data[mid] > k:\n",
    "                high = mid - 1\n",
    "            else:\n",
    "                low = mid + 1\n",
    "        return high if high > -1 and data[high] == k else -1\n",
    "#data = [1,2,2,2,3,4,5]\n",
    "#data = [1,3,3,3,3,4,5]\n",
    "data = [3]\n",
    "a = Solution()\n",
    "print(a.GetNumberOfK(data, 3))"
   ]
  },
  {
   "cell_type": "code",
   "execution_count": 43,
   "metadata": {
    "collapsed": false
   },
   "outputs": [
    {
     "ename": "SyntaxError",
     "evalue": "invalid syntax (<ipython-input-43-ecc4f3538b77>, line 1)",
     "output_type": "error",
     "traceback": [
      "\u001b[1;36m  File \u001b[1;32m\"<ipython-input-43-ecc4f3538b77>\"\u001b[1;36m, line \u001b[1;32m1\u001b[0m\n\u001b[1;33m    3>2?1:0\u001b[0m\n\u001b[1;37m       ^\u001b[0m\n\u001b[1;31mSyntaxError\u001b[0m\u001b[1;31m:\u001b[0m invalid syntax\n"
     ]
    }
   ],
   "source": []
  },
  {
   "cell_type": "code",
   "execution_count": 31,
   "metadata": {
    "collapsed": false
   },
   "outputs": [
    {
     "name": "stdout",
     "output_type": "stream",
     "text": [
      "测试本行是否执行\n",
      "测试本行是否执行\n",
      "测试本行是否执行\n",
      "测试本行是否执行\n",
      "[1, 3, 4, 5, 6, 7, 8]\n"
     ]
    }
   ],
   "source": [
    "def bubble_sort(array):\n",
    "    for i in range(len(array)):\n",
    "        flag = False\n",
    "        for j in range(len(array)-1,i,-1):\n",
    "            if array[j] < array[j-1]:\n",
    "                array[j-1],array[j] = array[j],array[j-1]\n",
    "                flag = True\n",
    "                print('测试本行是否执行')\n",
    "        if flag == False:\n",
    "            return \n",
    "array = [1,5,3,4,8,6,7]\n",
    "bubble_sort(array)\n",
    "print(array)"
   ]
  },
  {
   "cell_type": "code",
   "execution_count": 35,
   "metadata": {
    "collapsed": false
   },
   "outputs": [
    {
     "name": "stdout",
     "output_type": "stream",
     "text": [
      "测试本行是否执行\n",
      "测试本行是否执行\n",
      "测试本行是否执行\n"
     ]
    },
    {
     "data": {
      "text/plain": [
       "[1, 5, 3, 7, 4, 8, 6]"
      ]
     },
     "execution_count": 35,
     "metadata": {},
     "output_type": "execute_result"
    }
   ],
   "source": [
    "array = [1,5,3,4,8,6,7]\n",
    "for i in range(len(array)):\n",
    "        flag = False\n",
    "        for j in range(len(array)-1,i,-1):\n",
    "            if array[j]%2 == 1 and array[j-1]%2 == 0:\n",
    "                array[j-1],array[j] = array[j],array[j-1]\n",
    "                flag = True\n",
    "                print('测试本行是否执行')\n",
    "        if flag == False:\n",
    "            break \n",
    "array"
   ]
  },
  {
   "cell_type": "code",
   "execution_count": 38,
   "metadata": {
    "collapsed": false
   },
   "outputs": [
    {
     "data": {
      "text/plain": [
       "['C:\\\\Users\\\\Jupyter_notebook']"
      ]
     },
     "execution_count": 38,
     "metadata": {},
     "output_type": "execute_result"
    }
   ],
   "source": [
    "import os\n",
    "import glob\n",
    "c = os.path.abspath('')\n",
    "glob.glob(c + '*')"
   ]
  }
 ],
 "metadata": {
  "anaconda-cloud": {},
  "kernelspec": {
   "display_name": "Python [conda env:tensorflow]",
   "language": "python",
   "name": "conda-env-tensorflow-py"
  },
  "language_info": {
   "codemirror_mode": {
    "name": "ipython",
    "version": 3
   },
   "file_extension": ".py",
   "mimetype": "text/x-python",
   "name": "python",
   "nbconvert_exporter": "python",
   "pygments_lexer": "ipython3",
   "version": "3.6.7"
  }
 },
 "nbformat": 4,
 "nbformat_minor": 1
}
