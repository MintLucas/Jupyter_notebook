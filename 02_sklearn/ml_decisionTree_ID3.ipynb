{
 "cells": [
  {
   "cell_type": "code",
   "execution_count": 201,
   "metadata": {
    "collapsed": false
   },
   "outputs": [],
   "source": [
    "import tensorflow as tf\n",
    "import numpy as np\n",
    "from sklearn import datasets\n",
    "from sklearn.model_selection import train_test_split#split\n",
    "iris = datasets.load_iris()#高度统一，如datasets.load_boston()\n",
    "iris_X = iris.data#注意没有括号，都仅是一个属性\n",
    "iris_y = iris.target\n",
    "iris_dataSet = np.column_stack((iris_X,iris_y))\n"
   ]
  },
  {
   "cell_type": "code",
   "execution_count": 212,
   "metadata": {
    "collapsed": false
   },
   "outputs": [
    {
     "ename": "IndexError",
     "evalue": "invalid index to scalar variable.",
     "output_type": "error",
     "traceback": [
      "\u001b[1;31m---------------------------------------------------------------------------\u001b[0m",
      "\u001b[1;31mIndexError\u001b[0m                                Traceback (most recent call last)",
      "\u001b[1;32m<ipython-input-212-ecbbd3c4b559>\u001b[0m in \u001b[0;36m<module>\u001b[1;34m\u001b[0m\n\u001b[0;32m     30\u001b[0m         \u001b[0mEnt\u001b[0m \u001b[1;33m-=\u001b[0m \u001b[0mprob\u001b[0m\u001b[1;33m*\u001b[0m\u001b[0mlog\u001b[0m\u001b[1;33m(\u001b[0m\u001b[0mprob\u001b[0m\u001b[1;33m,\u001b[0m\u001b[1;36m2\u001b[0m\u001b[1;33m)\u001b[0m\u001b[1;33m\u001b[0m\u001b[1;33m\u001b[0m\u001b[0m\n\u001b[0;32m     31\u001b[0m     \u001b[1;32mreturn\u001b[0m \u001b[0mEnt\u001b[0m\u001b[1;33m\u001b[0m\u001b[1;33m\u001b[0m\u001b[0m\n\u001b[1;32m---> 32\u001b[1;33m \u001b[0mprint\u001b[0m\u001b[1;33m(\u001b[0m\u001b[0mcacuEnt\u001b[0m\u001b[1;33m(\u001b[0m\u001b[0miris_dataSet\u001b[0m\u001b[1;33m)\u001b[0m\u001b[1;33m)\u001b[0m\u001b[1;33m\u001b[0m\u001b[1;33m\u001b[0m\u001b[0m\n\u001b[0m",
      "\u001b[1;32m<ipython-input-212-ecbbd3c4b559>\u001b[0m in \u001b[0;36mcacuEnt\u001b[1;34m(dataSet)\u001b[0m\n\u001b[0;32m     22\u001b[0m         \u001b[0mcurLabel\u001b[0m \u001b[1;33m=\u001b[0m \u001b[0mrow\u001b[0m\u001b[1;33m[\u001b[0m\u001b[1;33m-\u001b[0m\u001b[1;36m1\u001b[0m\u001b[1;33m]\u001b[0m\u001b[1;33m\u001b[0m\u001b[1;33m\u001b[0m\u001b[0m\n\u001b[0;32m     23\u001b[0m         \u001b[1;32mif\u001b[0m \u001b[0mcurLabel\u001b[0m \u001b[1;32mnot\u001b[0m \u001b[1;32min\u001b[0m \u001b[0mcount\u001b[0m\u001b[1;33m.\u001b[0m\u001b[0mkeys\u001b[0m\u001b[1;33m(\u001b[0m\u001b[1;33m)\u001b[0m\u001b[1;33m:\u001b[0m\u001b[1;33m\u001b[0m\u001b[1;33m\u001b[0m\u001b[0m\n\u001b[1;32m---> 24\u001b[1;33m             \u001b[0mcount\u001b[0m\u001b[1;33m[\u001b[0m\u001b[0mcurLabel\u001b[0m\u001b[1;33m[\u001b[0m\u001b[1;33m-\u001b[0m\u001b[1;36m1\u001b[0m\u001b[1;33m]\u001b[0m\u001b[1;33m]\u001b[0m \u001b[1;33m=\u001b[0m \u001b[1;36m1\u001b[0m\u001b[1;33m\u001b[0m\u001b[1;33m\u001b[0m\u001b[0m\n\u001b[0m\u001b[0;32m     25\u001b[0m         \u001b[1;32melse\u001b[0m\u001b[1;33m:\u001b[0m\u001b[1;33m\u001b[0m\u001b[1;33m\u001b[0m\u001b[0m\n\u001b[0;32m     26\u001b[0m             \u001b[0mcount\u001b[0m\u001b[1;33m[\u001b[0m\u001b[0mcurLabel\u001b[0m\u001b[1;33m[\u001b[0m\u001b[1;33m-\u001b[0m\u001b[1;36m1\u001b[0m\u001b[1;33m]\u001b[0m\u001b[1;33m]\u001b[0m \u001b[1;33m+=\u001b[0m \u001b[1;36m1\u001b[0m\u001b[1;33m\u001b[0m\u001b[1;33m\u001b[0m\u001b[0m\n",
      "\u001b[1;31mIndexError\u001b[0m: invalid index to scalar variable."
     ]
    }
   ],
   "source": [
    "from math import log\n",
    "#输入：全是类别的数组[0,1,0,1,1,0,2,1,0,2,1]..不能输入二维数组对应计算\n",
    "def cacuEnt_vec(label):\n",
    "    #用字典count一个数组里各个种类的个数\n",
    "    labelCount = {}\n",
    "    D = len(label)\n",
    "    for i in range(D): \n",
    "        if label[i] not in labelCount: #第一次找到的话，初始化个数1\n",
    "            labelCount[label[i]] = 1\n",
    "        else:\n",
    "            labelCount[label[i]] += 1\n",
    "    Ent = 0.0\n",
    "    for c in labelCount:  #c个类别0，1，2\n",
    "        prob = float(labelCount[c])/D\n",
    "        Ent -= prob*log(prob,2)\n",
    "    return Ent   \n",
    "\n",
    "def cacuEnt(dataSet):\n",
    "    count = {}\n",
    "    D = len(dataSet)\n",
    "    for row in dataSet:\n",
    "        curLabel = row[-1]\n",
    "        if curLabel not in count.keys():\n",
    "            count[curLabel[-1]] = 1\n",
    "        else:\n",
    "            count[curLabel[-1]] += 1\n",
    "    Ent = 0.0\n",
    "    for key in count:\n",
    "        prob = float(count[key])/D\n",
    "        Ent -= prob*log(prob,2)\n",
    "    return Ent\n",
    "print(cacuEnt(iris_dataSet))"
   ]
  },
  {
   "cell_type": "code",
   "execution_count": 183,
   "metadata": {
    "collapsed": false
   },
   "outputs": [
    {
     "name": "stdout",
     "output_type": "stream",
     "text": [
      "[[1, 'no'], [1, 'no']]\n"
     ]
    },
    {
     "ename": "TypeError",
     "evalue": "unhashable type: 'list'",
     "output_type": "error",
     "traceback": [
      "\u001b[1;31m---------------------------------------------------------------------------\u001b[0m",
      "\u001b[1;31mTypeError\u001b[0m                                 Traceback (most recent call last)",
      "\u001b[1;32m<ipython-input-183-64d0f974f26c>\u001b[0m in \u001b[0;36m<module>\u001b[1;34m\u001b[0m\n\u001b[0;32m     38\u001b[0m         \u001b[1;32mreturn\u001b[0m \u001b[0mselected_Feature\u001b[0m\u001b[1;33m\u001b[0m\u001b[1;33m\u001b[0m\u001b[0m\n\u001b[0;32m     39\u001b[0m \u001b[0mb\u001b[0m \u001b[1;33m=\u001b[0m \u001b[1;33m[\u001b[0m\u001b[0mrow\u001b[0m\u001b[1;33m[\u001b[0m\u001b[1;33m:\u001b[0m\u001b[1;36m2\u001b[0m\u001b[1;33m]\u001b[0m \u001b[1;32mfor\u001b[0m \u001b[0mrow\u001b[0m \u001b[1;32min\u001b[0m \u001b[0mdataSet\u001b[0m\u001b[1;33m]\u001b[0m\u001b[1;33m\u001b[0m\u001b[1;33m\u001b[0m\u001b[0m\n\u001b[1;32m---> 40\u001b[1;33m \u001b[0mchoose_feature_split\u001b[0m\u001b[1;33m(\u001b[0m\u001b[0mb\u001b[0m\u001b[1;33m)\u001b[0m\u001b[1;33m\u001b[0m\u001b[1;33m\u001b[0m\u001b[0m\n\u001b[0m",
      "\u001b[1;32m<ipython-input-183-64d0f974f26c>\u001b[0m in \u001b[0;36mchoose_feature_split\u001b[1;34m(dataSet)\u001b[0m\n\u001b[0;32m     16\u001b[0m     \u001b[1;31m#取每列算一下信息增益,再返回最大的那一列\u001b[0m\u001b[1;33m\u001b[0m\u001b[1;33m\u001b[0m\u001b[1;33m\u001b[0m\u001b[0m\n\u001b[0;32m     17\u001b[0m     \u001b[0mnumFeature\u001b[0m \u001b[1;33m=\u001b[0m \u001b[0mlen\u001b[0m\u001b[1;33m(\u001b[0m\u001b[0mdataSet\u001b[0m\u001b[1;33m[\u001b[0m\u001b[1;36m0\u001b[0m\u001b[1;33m]\u001b[0m\u001b[1;33m)\u001b[0m\u001b[1;33m\u001b[0m\u001b[1;33m\u001b[0m\u001b[0m\n\u001b[1;32m---> 18\u001b[1;33m     \u001b[0mbaseEnt\u001b[0m \u001b[1;33m=\u001b[0m \u001b[0mcacuEnt\u001b[0m\u001b[1;33m(\u001b[0m\u001b[0mb\u001b[0m\u001b[1;33m)\u001b[0m\u001b[1;33m\u001b[0m\u001b[1;33m\u001b[0m\u001b[0m\n\u001b[0m\u001b[0;32m     19\u001b[0m     \u001b[0mmax_Gain\u001b[0m \u001b[1;33m=\u001b[0m \u001b[1;36m0\u001b[0m\u001b[1;33m\u001b[0m\u001b[1;33m\u001b[0m\u001b[0m\n\u001b[0;32m     20\u001b[0m     \u001b[0mselected_Feature\u001b[0m \u001b[1;33m=\u001b[0m \u001b[1;33m-\u001b[0m\u001b[1;36m1\u001b[0m\u001b[1;33m\u001b[0m\u001b[1;33m\u001b[0m\u001b[0m\n",
      "\u001b[1;32m<ipython-input-144-47afd03c4e07>\u001b[0m in \u001b[0;36mcacuEnt\u001b[1;34m(label)\u001b[0m\n\u001b[0;32m      5\u001b[0m     \u001b[0mD\u001b[0m \u001b[1;33m=\u001b[0m \u001b[0mlen\u001b[0m\u001b[1;33m(\u001b[0m\u001b[0mlabel\u001b[0m\u001b[1;33m)\u001b[0m\u001b[1;33m\u001b[0m\u001b[1;33m\u001b[0m\u001b[0m\n\u001b[0;32m      6\u001b[0m     \u001b[1;32mfor\u001b[0m \u001b[0mi\u001b[0m \u001b[1;32min\u001b[0m \u001b[0mrange\u001b[0m\u001b[1;33m(\u001b[0m\u001b[0mD\u001b[0m\u001b[1;33m)\u001b[0m\u001b[1;33m:\u001b[0m\u001b[1;33m\u001b[0m\u001b[1;33m\u001b[0m\u001b[0m\n\u001b[1;32m----> 7\u001b[1;33m         \u001b[1;32mif\u001b[0m \u001b[0mlabel\u001b[0m\u001b[1;33m[\u001b[0m\u001b[0mi\u001b[0m\u001b[1;33m]\u001b[0m \u001b[1;32mnot\u001b[0m \u001b[1;32min\u001b[0m \u001b[0mlabelCount\u001b[0m\u001b[1;33m:\u001b[0m \u001b[1;31m#第一次找到的话，初始化个数1\u001b[0m\u001b[1;33m\u001b[0m\u001b[1;33m\u001b[0m\u001b[0m\n\u001b[0m\u001b[0;32m      8\u001b[0m             \u001b[0mlabelCount\u001b[0m\u001b[1;33m[\u001b[0m\u001b[0mlabel\u001b[0m\u001b[1;33m[\u001b[0m\u001b[0mi\u001b[0m\u001b[1;33m]\u001b[0m\u001b[1;33m]\u001b[0m \u001b[1;33m=\u001b[0m \u001b[1;36m1\u001b[0m\u001b[1;33m\u001b[0m\u001b[1;33m\u001b[0m\u001b[0m\n\u001b[0;32m      9\u001b[0m         \u001b[1;32melse\u001b[0m\u001b[1;33m:\u001b[0m\u001b[1;33m\u001b[0m\u001b[1;33m\u001b[0m\u001b[0m\n",
      "\u001b[1;31mTypeError\u001b[0m: unhashable type: 'list'"
     ]
    }
   ],
   "source": [
    "#选取某个属性中,值为value的数据集返回,即选择Dv\n",
    "def select_by_featureVal(dataSet,axis,value):\n",
    "    select_dataSet = []\n",
    "    for row in dataSet:\n",
    "        #具体到某列数值.通过遍历所有行选中\n",
    "        if row[axis] == value:\n",
    "            pre_to_axis = row[:axis]\n",
    "            after_axis = row[axis+1:]\n",
    "            #在原数组上修改,不能新定义conbine = pre_to_axis.extend(after_axis)\n",
    "            pre_to_axis.extend(after_axis)\n",
    "            select_dataSet.append(pre_to_axis)\n",
    "    return select_dataSet\n",
    "print(select_by_featureVal(dataSet,0,0))\n",
    "\n",
    "b = [row[:2] for row in dataSet]\n",
    "choose_feature_split(b)"
   ]
  },
  {
   "cell_type": "code",
   "execution_count": null,
   "metadata": {
    "collapsed": true
   },
   "outputs": [],
   "source": [
    "def choose_feature_split(dataSet):\n",
    "    #取每列算一下信息增益,再返回最大的那一列\n",
    "    numFeature = len(dataSet[0]) \n",
    "    baseEnt = cacuEnt(b)\n",
    "    max_Gain = 0\n",
    "    selected_Feature = -1\n",
    "    \n",
    "    for i in range(numFeature):\n",
    "        featureVec = [row[i] for row in dataSet]#得到某个特征下所有值（某列）\n",
    "        print(featureVec)\n",
    "        Gain_a = 0\n",
    "        #取出这一列为了取无重复的属性值\n",
    "        unique_featureVec = set(featureVec)\n",
    "        for value in unique_featureVec:\n",
    "            #几个属性取值分割几个Dv分支,色泽（青绿,乌黑,浅白）\n",
    "            Dv = select_by_featureVal(b,i,value)\n",
    "            prob = len(Dv)/float(len(b))\n",
    "            Ent_Dv += prob*cacuEnt(Dv)\n",
    "        Gain_a = baseEnt - Ent_Dv#用属性a划分D带来的信息增益\n",
    "        \n",
    "        if(Gain_a>max_Gain):\n",
    "            max_Gain = Gain_a\n",
    "            selected_Feature = i\n",
    "        return selected_Feature"
   ]
  },
  {
   "cell_type": "code",
   "execution_count": 207,
   "metadata": {
    "collapsed": false
   },
   "outputs": [
    {
     "name": "stdout",
     "output_type": "stream",
     "text": [
      "{'a': 3, '2': 2, 2: 1, 4: 2, 5: 2, 'b': 1, 7: 1, 'd': 1, 'z': 1}\n",
      "3\n",
      "2\n",
      "1\n",
      "2\n",
      "2\n",
      "1\n",
      "1\n",
      "1\n",
      "1\n"
     ]
    }
   ],
   "source": [
    "data = ['a','2',2,4,5,'2','b',4,7,'a',5,'d','a','z']\n",
    "count_frq = dict()\n",
    "for one in data:\n",
    "     if one in count_frq:\n",
    "          count_frq[one] += 1\n",
    "     else:\n",
    "          count_frq[one] = 1\n",
    "\n",
    "print(count_frq)\n",
    "for c in count_frq:\n",
    "    print(count_frq[c])"
   ]
  }
 ],
 "metadata": {
  "anaconda-cloud": {},
  "kernelspec": {
   "display_name": "Python [conda env:tensorflow]",
   "language": "python",
   "name": "conda-env-tensorflow-py"
  },
  "language_info": {
   "codemirror_mode": {
    "name": "ipython",
    "version": 3
   },
   "file_extension": ".py",
   "mimetype": "text/x-python",
   "name": "python",
   "nbconvert_exporter": "python",
   "pygments_lexer": "ipython3",
   "version": "3.6.7"
  }
 },
 "nbformat": 4,
 "nbformat_minor": 1
}
