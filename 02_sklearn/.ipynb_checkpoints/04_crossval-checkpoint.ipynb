{
 "cells": [
  {
   "cell_type": "code",
   "execution_count": 104,
   "metadata": {
    "collapsed": false
   },
   "outputs": [
    {
     "data": {
      "text/plain": [
       "array([[1],\n",
       "       [2]])"
      ]
     },
     "execution_count": 104,
     "metadata": {},
     "output_type": "execute_result"
    }
   ],
   "source": [
    "from sklearn.neighbors import KNeighborsClassifier#model = KNeighborsClassifier()\n",
    "from sklearn import datasets\n",
    "import numpy as np\n",
    "iris = datasets.load_iris()#高度统一，如datasets.load_boston()\n",
    "iris_X = iris.data#注意没有括号，都仅是一个属性\n",
    "iris_y = iris.target\n",
    "idx = np.arange(iris_X.shape[1])\n",
    "test = iris_X[:5]\n",
    "test = [[1,2,3],\n",
    "        [4,4,4]]\n",
    "one_sample = np.array([[1],[2]])\n",
    "one_sample"
   ]
  },
  {
   "cell_type": "code",
   "execution_count": 116,
   "metadata": {
    "collapsed": false
   },
   "outputs": [
    {
     "data": {
      "image/png": "[encoded data removed]",
      "text/plain": [
       "<Figure size 432x288 with 1 Axes>"
      ]
     },
     "metadata": {
      "needs_background": "light"
     },
     "output_type": "display_data"
    },
    {
     "data": {
      "text/plain": [
       "[0.96,\n",
       " 0.953,\n",
       " 0.967,\n",
       " 0.967,\n",
       " 0.967,\n",
       " 0.967,\n",
       " 0.967,\n",
       " 0.967,\n",
       " 0.973,\n",
       " 0.967,\n",
       " 0.967,\n",
       " 0.973,\n",
       " 0.98,\n",
       " 0.973,\n",
       " 0.973,\n",
       " 0.973,\n",
       " 0.973,\n",
       " 0.98,\n",
       " 0.973,\n",
       " 0.98,\n",
       " 0.967,\n",
       " 0.967,\n",
       " 0.973,\n",
       " 0.96,\n",
       " 0.967,\n",
       " 0.96,\n",
       " 0.967,\n",
       " 0.953,\n",
       " 0.953,\n",
       " 0.953]"
      ]
     },
     "execution_count": 116,
     "metadata": {},
     "output_type": "execute_result"
    }
   ],
   "source": [
    "import matplotlib.pyplot as plt\n",
    "from sklearn.model_selection import cross_val_score\n",
    "k_range = range(1,31)\n",
    "k_scores = []\n",
    "for k in k_range:\n",
    "    knn = KNeighborsClassifier(n_neighbors=k)\n",
    "    scores = cross_val_score(knn,iris_X,iris_y,cv=10,scoring=\"accuracy\").mean()\n",
    "    scores = round(scores,3)\n",
    "    k_scores.append(scores)\n",
    "plt.plot(k_range,k_scores)\n",
    "plt.xlabel(\"Value of K for KNN\")\n",
    "plt.ylabel(\"Cross-Validated Accuracy\")\n",
    "plt.show()\n",
    "k_scores\n"
   ]
  },
  {
   "cell_type": "code",
   "execution_count": 18,
   "metadata": {
    "collapsed": false
   },
   "outputs": [
    {
     "ename": "ModuleNotFoundError",
     "evalue": "No module named 'sklearn.learning_curve'",
     "output_type": "error",
     "traceback": [
      "\u001b[1;31m---------------------------------------------------------------------------\u001b[0m",
      "\u001b[1;31mModuleNotFoundError\u001b[0m                       Traceback (most recent call last)",
      "\u001b[1;32m<ipython-input-18-258bd5fc95aa>\u001b[0m in \u001b[0;36m<module>\u001b[1;34m\u001b[0m\n\u001b[1;32m----> 1\u001b[1;33m \u001b[1;32mfrom\u001b[0m \u001b[0msklearn\u001b[0m\u001b[1;33m.\u001b[0m\u001b[0mlearning_curve\u001b[0m \u001b[1;32mimport\u001b[0m \u001b[0mlearning_curve\u001b[0m\u001b[1;33m\u001b[0m\u001b[0m\n\u001b[0m",
      "\u001b[1;31mModuleNotFoundError\u001b[0m: No module named 'sklearn.learning_curve'"
     ]
    }
   ],
   "source": [
    "from sklearn.learning_curve import learning_curve"
   ]
  }
 ],
 "metadata": {
  "anaconda-cloud": {},
  "kernelspec": {
   "display_name": "Python [conda env:tensorflow]",
   "language": "python",
   "name": "conda-env-tensorflow-py"
  },
  "language_info": {
   "codemirror_mode": {
    "name": "ipython",
    "version": 3
   },
   "file_extension": ".py",
   "mimetype": "text/x-python",
   "name": "python",
   "nbconvert_exporter": "python",
   "pygments_lexer": "ipython3",
   "version": "3.6.2"
  }
 },
 "nbformat": 4,
 "nbformat_minor": 1
}
