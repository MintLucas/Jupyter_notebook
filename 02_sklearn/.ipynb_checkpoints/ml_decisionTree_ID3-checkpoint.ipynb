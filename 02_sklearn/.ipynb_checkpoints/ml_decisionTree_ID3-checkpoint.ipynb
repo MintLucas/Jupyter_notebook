{
 "cells": [
  {
   "cell_type": "code",
   "execution_count": 127,
   "metadata": {
    "collapsed": false
   },
   "outputs": [
    {
     "data": {
      "text/plain": [
       "{4.3,\n",
       " 4.4,\n",
       " 4.5,\n",
       " 4.6,\n",
       " 4.7,\n",
       " 4.8,\n",
       " 4.9,\n",
       " 5.0,\n",
       " 5.1,\n",
       " 5.2,\n",
       " 5.3,\n",
       " 5.4,\n",
       " 5.5,\n",
       " 5.6,\n",
       " 5.7,\n",
       " 5.8,\n",
       " 5.9,\n",
       " 6.0,\n",
       " 6.1,\n",
       " 6.2,\n",
       " 6.3,\n",
       " 6.4,\n",
       " 6.5,\n",
       " 6.6,\n",
       " 6.7,\n",
       " 6.8,\n",
       " 6.9,\n",
       " 7.0,\n",
       " 7.1,\n",
       " 7.2,\n",
       " 7.3,\n",
       " 7.4,\n",
       " 7.6,\n",
       " 7.7,\n",
       " 7.9}"
      ]
     },
     "execution_count": 127,
     "metadata": {},
     "output_type": "execute_result"
    }
   ],
   "source": [
    "import tensorflow as tf\n",
    "from sklearn import datasets\n",
    "from sklearn.model_selection import train_test_split#split\n",
    "iris = datasets.load_iris()#高度统一，如datasets.load_boston()\n",
    "iris_X = iris.data#注意没有括号，都仅是一个属性\n",
    "iris_y = iris.target\n",
    "set(iris_X[:,0])"
   ]
  },
  {
   "cell_type": "code",
   "execution_count": 117,
   "metadata": {
    "collapsed": false
   },
   "outputs": [
    {
     "data": {
      "text/plain": [
       "{'a': 2, 'b': 1, 5: 2, 6: 1, 7: 1}"
      ]
     },
     "execution_count": 117,
     "metadata": {},
     "output_type": "execute_result"
    }
   ],
   "source": [
    "lists = ['a','a','b',5,6,7,5]\n",
    "count_dict = dict()\n",
    "for item in lists:\n",
    "    if item in count_dict:\n",
    "        count_dict[item] += 1\n",
    "    else:\n",
    "        count_dict[item] = 1\n",
    "count_dict"
   ]
  },
  {
   "cell_type": "code",
   "execution_count": 120,
   "metadata": {
    "collapsed": false
   },
   "outputs": [
    {
     "name": "stdout",
     "output_type": "stream",
     "text": [
      "[1, 1, 'yes']\n",
      "[1, 1, 'yes']\n",
      "[1, 0, 'no']\n",
      "[0, 1, 'no']\n",
      "[0, 1, 'no']\n"
     ]
    },
    {
     "data": {
      "text/plain": [
       "[1, 1, 'yes']"
      ]
     },
     "execution_count": 120,
     "metadata": {},
     "output_type": "execute_result"
    }
   ],
   "source": [
    "dataSet=[[1,1,'yes'],[1,1,'yes'],[1,0,'no'],[0,1,'no'],[0,1,'no']]\n",
    "retDataSet=[]\n",
    "axis = 2\n",
    "#用切片操作去掉某一纬\n",
    "for featVec in dataSet:\n",
    "    print(featVec[:])#\n",
    "    if featVec[axis]=='no' : \n",
    "        reduceFeatVec=featVec[:axis]\n",
    "        reduceFeatVec.extend(featVec[axis+1:])\n",
    "        retDataSet.append(reduceFeatVec)\n",
    "dataSet[0]"
   ]
  },
  {
   "cell_type": "code",
   "execution_count": 144,
   "metadata": {
    "collapsed": false
   },
   "outputs": [
    {
     "data": {
      "text/plain": [
       "1.584962500721156"
      ]
     },
     "execution_count": 144,
     "metadata": {},
     "output_type": "execute_result"
    }
   ],
   "source": [
    "from math import log\n",
    "def cacuEnt(label):\n",
    "    #用字典count一个数组里各个种类的个数\n",
    "    labelCount = {}\n",
    "    D = len(label)\n",
    "    for i in range(D): \n",
    "        if label[i] not in labelCount: #第一次找到的话，初始化个数1\n",
    "            labelCount[label[i]] = 1\n",
    "        else:\n",
    "            labelCount[label[i]] += 1\n",
    "    Ent = 0.0\n",
    "    for c in labelCount:  #c个类别0，1，2\n",
    "        prob = float(labelCount[c])/D\n",
    "        Ent -= prob*log(prob,2)\n",
    "    return Ent   \n",
    "cacuEnt(iris_y)"
   ]
  },
  {
   "cell_type": "code",
   "execution_count": 150,
   "metadata": {
    "collapsed": false
   },
   "outputs": [
    {
     "name": "stdout",
     "output_type": "stream",
     "text": [
      "[[1, 'no'], [1, 'no']]\n"
     ]
    },
    {
     "ename": "TypeError",
     "evalue": "list indices must be integers or slices, not tuple",
     "output_type": "error",
     "traceback": [
      "\u001b[1;31m---------------------------------------------------------------------------\u001b[0m",
      "\u001b[1;31mTypeError\u001b[0m                                 Traceback (most recent call last)",
      "\u001b[1;32m<ipython-input-150-4da69f6011e6>\u001b[0m in \u001b[0;36m<module>\u001b[1;34m\u001b[0m\n\u001b[0;32m     37\u001b[0m             \u001b[0mselected_Feature\u001b[0m \u001b[1;33m=\u001b[0m \u001b[0mi\u001b[0m\u001b[1;33m\u001b[0m\u001b[1;33m\u001b[0m\u001b[0m\n\u001b[0;32m     38\u001b[0m         \u001b[1;32mreturn\u001b[0m \u001b[0mselected_Feature\u001b[0m\u001b[1;33m\u001b[0m\u001b[1;33m\u001b[0m\u001b[0m\n\u001b[1;32m---> 39\u001b[1;33m \u001b[0mchoose_feature_split\u001b[0m\u001b[1;33m(\u001b[0m\u001b[0mdataSet\u001b[0m\u001b[1;33m[\u001b[0m\u001b[1;33m:\u001b[0m\u001b[1;33m,\u001b[0m\u001b[1;33m:\u001b[0m\u001b[1;36m2\u001b[0m\u001b[1;33m]\u001b[0m\u001b[1;33m)\u001b[0m\u001b[1;33m\u001b[0m\u001b[1;33m\u001b[0m\u001b[0m\n\u001b[0m",
      "\u001b[1;31mTypeError\u001b[0m: list indices must be integers or slices, not tuple"
     ]
    }
   ],
   "source": [
    "#选取某个属性中,值为value的数据集返回,即选择Dv\n",
    "def select_by_featureVal(dataSet,axis,value):\n",
    "    select_dataSet = []\n",
    "    for row in dataSet:\n",
    "        #具体到某列数值.通过遍历所有行选中\n",
    "        if row[axis] == value:\n",
    "            pre_to_axis = row[:axis]\n",
    "            after_axis = row[axis+1:]\n",
    "            #在原数组上修改,不能新定义conbine = pre_to_axis.extend(after_axis)\n",
    "            pre_to_axis.extend(after_axis)\n",
    "            select_dataSet.append(pre_to_axis)\n",
    "    return select_dataSet\n",
    "print(select_by_featureVal(dataSet,0,0))\n",
    "\n",
    "def choose_feature_split(dataSet):\n",
    "    #取每列算一下信息增益,再返回最大的那一列\n",
    "    numFeature = len(dataSet) \n",
    "    baseEnt = cacuEnt(dataSet)\n",
    "    max_Gain\n",
    "    selected_Feature = -1\n",
    "    \n",
    "    for i in numFeature:\n",
    "        featureVec = [row[i] for row in dataSet]#得到某个特征下所有值（某列）\n",
    "        print(featureVec)\n",
    "        Gain_a = 0\n",
    "        #取出这一列为了取无重复的属性值\n",
    "        unique_featureVec = set(featureVec)\n",
    "        for value in unique_featureVec:\n",
    "            #几个属性取值分割几个Dv分支,色泽（青绿,乌黑,浅白）\n",
    "            Dv = select_by_featureVal(dataSet,i,value)\n",
    "            prob = len(Dv)/float(len(dataSet))\n",
    "            Ent_Dv += prob*cacuEnt(Dv)\n",
    "        Gain_a = baseEnt - Ent_Dv#用属性a划分D带来的信息增益\n",
    "        \n",
    "        if(Gain_a>max_Gain):\n",
    "            max_Gain = Gain_a\n",
    "            selected_Feature = i\n",
    "        return selected_Feature\n",
    "choose_feature_split(dataSet[:,:2])"
   ]
  },
  {
   "cell_type": "code",
   "execution_count": 38,
   "metadata": {
    "collapsed": false
   },
   "outputs": [
    {
     "data": {
      "text/plain": [
       "<function dict.keys>"
      ]
     },
     "execution_count": 38,
     "metadata": {},
     "output_type": "execute_result"
    }
   ],
   "source": [
    "Ent = {}\n",
    "D = len(iris_y)\n",
    "for i in range(D):\n",
    "    if iris_y[i] not in Ent:\n",
    "        Ent[iris_y[i]] = 1\n",
    "    else:\n",
    "        Ent[iris_y[i]] += 1\n",
    "Ent.keys"
   ]
  },
  {
   "cell_type": "code",
   "execution_count": 160,
   "metadata": {
    "collapsed": false
   },
   "outputs": [
    {
     "data": {
      "text/plain": [
       "[[1, 1, 'yes'], [1, 1, 'yes'], [1, 0, 'no']]"
      ]
     },
     "execution_count": 160,
     "metadata": {},
     "output_type": "execute_result"
    }
   ],
   "source": [
    "dataSet[:3][:]"
   ]
  },
  {
   "cell_type": "code",
   "execution_count": 30,
   "metadata": {
    "collapsed": false
   },
   "outputs": [
    {
     "data": {
      "text/plain": [
       "{'a': 3, '2': 2, 2: 1, 4: 2, 5: 2, 'b': 1, 7: 1, 'd': 1, 'z': 1}"
      ]
     },
     "execution_count": 30,
     "metadata": {},
     "output_type": "execute_result"
    }
   ],
   "source": [
    "data = ['a','2',2,4,5,'2','b',4,7,'a',5,'d','a','z']\n",
    "count_frq = dict()\n",
    "for one in data:\n",
    "     if one in count_frq:\n",
    "          count_frq[one] += 1\n",
    "     else:\n",
    "          count_frq[one] = 1\n",
    "\n",
    "count_frq"
   ]
  }
 ],
 "metadata": {
  "anaconda-cloud": {},
  "kernelspec": {
   "display_name": "Python [conda env:tensorflow]",
   "language": "python",
   "name": "conda-env-tensorflow-py"
  },
  "language_info": {
   "codemirror_mode": {
    "name": "ipython",
    "version": 3
   },
   "file_extension": ".py",
   "mimetype": "text/x-python",
   "name": "python",
   "nbconvert_exporter": "python",
   "pygments_lexer": "ipython3",
   "version": "3.6.7"
  }
 },
 "nbformat": 4,
 "nbformat_minor": 1
}
