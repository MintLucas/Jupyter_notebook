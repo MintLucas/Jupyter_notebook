{
 "cells": [
  {
   "cell_type": "code",
   "execution_count": 1,
   "metadata": {
    "collapsed": true
   },
   "outputs": [],
   "source": [
    "from __future__ import print_function\n",
    "import sys\n",
    "import os\n",
    "import math\n",
    "import numpy as np\n",
    "from sklearn import datasets\n",
    "import matplotlib.pyplot as plt\n",
    "from collections import Counter\n",
    "from sklearn.datasets import make_classification\n",
    "from sklearn.model_selection import train_test_split#split\n",
    "%matplotlib inline"
   ]
  },
  {
   "cell_type": "code",
   "execution_count": 2,
   "metadata": {
    "collapsed": false
   },
   "outputs": [],
   "source": [
    "##数据处理部分\n",
    "def shuffle_data(X, y, seed=None):\n",
    "    if seed:\n",
    "        np.random.seed(seed)\n",
    "        idx = np.arange(X.shape[0])\n",
    "        np.random.shuffle(idx)\n",
    "        return X[idx], y[idx]\n",
    "    \n",
    "# 正规化数据集 X,l2范数,按行,使每个sample范数为1\n",
    "def normalize(X, axis=-1, p=2):\n",
    "    lp_norm = np.atleast_1d(np.linalg.norm(X, p, axis,keepdims =True))\n",
    "    lp_norm[lp_norm == 0] = 1\n",
    "    return X #/ np.expand_dims(lp_norm, axis)\n",
    "\n",
    "# 标准化数据集 X,按列（属性）,\n",
    "def standardize(X):\n",
    "    X_std = np.zeros(X.shape)\n",
    "    mean = X.mean(axis=0)\n",
    "    std = X.std(axis=0)\n",
    "    # 分母不能等于 0 的情形\n",
    "    # X_std = (X - X.mean(axis=0)) / X.std(axis=0)\n",
    "    for col in range(np.shape(X)[1]):\n",
    "        if std[col]:\n",
    "            X_std[:, col] = (X_std[:, col] - mean[col]) / std[col]\n",
    "    return X_std\n",
    "\n",
    "# 划分数据集为训练集和测试集\n",
    "# def train_test_split(X, y, test_size=0.2, shuffle=True, seed=None):\n",
    "#     if shuffle:\n",
    "#         X, y = shuffle_data(X, y, seed)\n",
    "    \n",
    "#     n_train_samples = int(X.shape[0] * (1-test_size))\n",
    "#     x_train, x_test = X[:n_train_samples], X[n_train_samples:]\n",
    "#     y_train, y_test = y[:n_train_samples], y[n_train_samples:]\n",
    "    \n",
    "#     return x_train, x_test, y_train, y_test\n",
    "\n",
    "def accuracy(y, y_pred):\n",
    "    y = y.reshape(y.shape[0], -1)\n",
    "    y_pred = y_pred.reshape(y_pred.shape[0], -1)\n",
    "    return np.sum(y == y_pred)/len(y)"
   ]
  },
  {
   "cell_type": "code",
   "execution_count": 3,
   "metadata": {
    "collapsed": false
   },
   "outputs": [],
   "source": [
    "class KNN():\n",
    "    def __init__(self, k=5):\n",
    "        self.k = k\n",
    "        \n",
    "    # 计算一个样本与训练集中所有样本的欧氏距离的平方\n",
    "    def euclidean_distance(self, one_sample, X_train):\n",
    "        one_sample = one_sample.reshape(1, -1)\n",
    "        X_train = X_train.reshape(X_train.shape[0], -1)\n",
    "        distances = np.power(np.tile(one_sample, (X_train.shape[0], 1)) - X_train,\n",
    "        2).sum(axis=1)\n",
    "        return distances\n",
    "\n",
    "    # 获取 k 个近邻的类别标签\n",
    "    def get_k_neighbor_labels(self, distances, y_train, k):\n",
    "        k_neighbor_labels = []\n",
    "        for distance in np.sort(distances)[:k]:\n",
    "            label = y_train[distances==distance]\n",
    "            k_neighbor_labels.append(label)\n",
    "        return np.array(k_neighbor_labels).reshape(-1, )\n",
    "    \n",
    "    # 进行标签统计，得票最多的标签就是该测试样本的预测标签\n",
    "    def vote(self, one_sample, X_train, y_train, k):\n",
    "        distances = self.euclidean_distance(one_sample, X_train)\n",
    "        #print(distances.shape)\n",
    "        y_train = y_train.reshape(y_train.shape[0], 1)\n",
    "        k_neighbor_labels = self.get_k_neighbor_labels(distances, y_train, k)\n",
    "        #print(k_neighbor_labels.shape)\n",
    "        find_label, find_count = 0, 0\n",
    "        for label, count in Counter(k_neighbor_labels).items():\n",
    "            if count > find_count:\n",
    "                find_count = count\n",
    "                find_label = label\n",
    "        return find_label\n",
    "   \n",
    "    # 对测试集进行预测\n",
    "    def predict(self, X_test, X_train, y_train):\n",
    "        y_pred = []\n",
    "        for sample in X_test:\n",
    "            label = self.vote(sample, X_train, y_train, self.k)\n",
    "            y_pred.append(label)\n",
    "  \n",
    "            #print(y_pred)\n",
    "        return np.array(y_pred)"
   ]
  },
  {
   "cell_type": "code",
   "execution_count": 15,
   "metadata": {
    "collapsed": false
   },
   "outputs": [
    {
     "name": "stdout",
     "output_type": "stream",
     "text": [
      "Accuracy: 0.9848484848484849\n"
     ]
    }
   ],
   "source": [
    "def main():\n",
    "    data = make_classification(n_samples=200, n_features=4, n_informative=2, n_redundant=2, n_repeated=0, n_classes=2)\n",
    "    X, y = data[0], data[1]\n",
    "    X_train,X_test,y_train,y_test = train_test_split(X,y,test_size=0.33)\n",
    "\n",
    "    \n",
    "    clf = KNN(k=5)\n",
    "    y_pred = clf.predict(X_test, X_train, y_train)\n",
    "    accu = accuracy(y_test, y_pred)\n",
    "    print (\"Accuracy:\", accu)\n",
    "if __name__ == \"__main__\":\n",
    "    main()"
   ]
  },
  {
   "cell_type": "code",
   "execution_count": 21,
   "metadata": {
    "collapsed": false
   },
   "outputs": [
    {
     "data": {
      "image/png": "[encoded data removed]",
      "text/plain": [
       "<Figure size 432x288 with 1 Axes>"
      ]
     },
     "metadata": {
      "needs_background": "light"
     },
     "output_type": "display_data"
    },
    {
     "data": {
      "text/plain": [
       "[0.8939393939393939,\n",
       " 0.8939393939393939,\n",
       " 0.9696969696969697,\n",
       " 0.9545454545454546,\n",
       " 0.9848484848484849,\n",
       " 0.9848484848484849,\n",
       " 0.9848484848484849,\n",
       " 0.9848484848484849,\n",
       " 0.9848484848484849,\n",
       " 0.9696969696969697,\n",
       " 0.9545454545454546,\n",
       " 0.9545454545454546,\n",
       " 0.9696969696969697,\n",
       " 0.9848484848484849,\n",
       " 0.9696969696969697,\n",
       " 0.9696969696969697,\n",
       " 0.9696969696969697,\n",
       " 0.9696969696969697,\n",
       " 0.9696969696969697,\n",
       " 0.9696969696969697,\n",
       " 0.9696969696969697,\n",
       " 0.9696969696969697,\n",
       " 0.9696969696969697,\n",
       " 0.9696969696969697,\n",
       " 0.9696969696969697,\n",
       " 0.9696969696969697,\n",
       " 0.9696969696969697,\n",
       " 0.9545454545454546,\n",
       " 0.9696969696969697,\n",
       " 0.9545454545454546]"
      ]
     },
     "execution_count": 21,
     "metadata": {},
     "output_type": "execute_result"
    }
   ],
   "source": [
    "import matplotlib.pyplot as plt\n",
    "from sklearn.model_selection import cross_val_score\n",
    "\n",
    "data = make_classification(n_samples=200, n_features=4, n_informative=2, n_redundant=2, n_repeated=0, n_classes=2)\n",
    "X, y = data[0], data[1]\n",
    "X_train,X_test,y_train,y_test = train_test_split(X,y,test_size=0.33)\n",
    "\n",
    "k_range = range(1,31)\n",
    "k_scores = []\n",
    "for k in k_range:\n",
    "    clf = KNN(k)\n",
    "    y_pred = clf.predict(X_test, X_train, y_train)\n",
    "    accu = accuracy(y_test, y_pred)\n",
    "    #accu = round(accu,3)\n",
    "    k_scores.append(accu)\n",
    "plt.plot(k_range,k_scores)\n",
    "plt.xlabel(\"Value of K for KNN\")\n",
    "plt.ylabel(\"Cross-Validated Accuracy\")\n",
    "-\n",
    "plt.show()\n",
    "k_scores\n"
   ]
  },
  {
   "cell_type": "code",
   "execution_count": null,
   "metadata": {
    "collapsed": true
   },
   "outputs": [],
   "source": []
  }
 ],
 "metadata": {
  "anaconda-cloud": {},
  "kernelspec": {
   "display_name": "Python [conda env:tensorflow]",
   "language": "python",
   "name": "conda-env-tensorflow-py"
  },
  "language_info": {
   "codemirror_mode": {
    "name": "ipython",
    "version": 3
   },
   "file_extension": ".py",
   "mimetype": "text/x-python",
   "name": "python",
   "nbconvert_exporter": "python",
   "pygments_lexer": "ipython3",
   "version": "3.6.2"
  }
 },
 "nbformat": 4,
 "nbformat_minor": 1
}
