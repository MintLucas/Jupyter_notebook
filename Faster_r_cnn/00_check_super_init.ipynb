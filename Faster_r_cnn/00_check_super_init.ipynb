{
 "cells": [
  {
   "cell_type": "code",
   "execution_count": 5,
   "metadata": {
    "collapsed": false
   },
   "outputs": [],
   "source": [
    "class Base(object):\n",
    "       def __init__(self):\n",
    "            print(\"Base init\")\n",
    "\n",
    "class Medium1(Base):\n",
    "       def __init__(self):\n",
    "            Base.__init__(self)\n",
    "            print(\"Medium1 init\")\n",
    "\n",
    "class Medium2(Base):\n",
    "       def __init__(self):\n",
    "            Base.__init__(self)\n",
    "            print(\"Medium2 init\")\n",
    "\n",
    "class Leaf(Medium1, Medium2):\n",
    "       def __init__(self):\n",
    "            Medium1.__init__(self)\n",
    "            Medium2.__init__(self)\n",
    "            print(\"Leaf init\")"
   ]
  },
  {
   "cell_type": "code",
   "execution_count": 6,
   "metadata": {
    "collapsed": false
   },
   "outputs": [
    {
     "name": "stdout",
     "output_type": "stream",
     "text": [
      "Base init\n",
      "Medium1 init\n",
      "Base init\n",
      "Medium2 init\n",
      "Leaf init\n"
     ]
    }
   ],
   "source": [
    "leaf = Leaf()"
   ]
  },
  {
   "cell_type": "code",
   "execution_count": 7,
   "metadata": {
    "collapsed": false
   },
   "outputs": [],
   "source": [
    "class Base(object):\n",
    "    def __init__(self):\n",
    "        print(\"Base init\")\n",
    " \n",
    "class Medium1(Base):\n",
    "    def __init__(self):\n",
    "        super(Medium1, self).__init__()\n",
    "        print(\"Medium1 init\")\n",
    "\n",
    "class Medium2(Base):\n",
    "    def __init__(self):\n",
    "        super(Medium2, self).__init__()\n",
    "        print(\"Medium2 init\")\n",
    "\n",
    "class Leaf2(Medium1, Medium2):\n",
    "    def __init__(self):\n",
    "        super(Leaf2, self).__init__()\n",
    "        print(\"Leaf2 init\")"
   ]
  },
  {
   "cell_type": "code",
   "execution_count": 8,
   "metadata": {
    "collapsed": false
   },
   "outputs": [
    {
     "name": "stdout",
     "output_type": "stream",
     "text": [
      "Base init\n",
      "Medium2 init\n",
      "Medium1 init\n",
      "Leaf2 init\n"
     ]
    }
   ],
   "source": [
    "leaf2 = Leaf2()"
   ]
  },
  {
   "cell_type": "markdown",
   "metadata": {},
   "source": [
    "pref: https://blog.csdn.net/sunwukong_hadoop/article/details/80175292"
   ]
  },
  {
   "cell_type": "code",
   "execution_count": null,
   "metadata": {
    "collapsed": true
   },
   "outputs": [],
   "source": []
  },
  {
   "cell_type": "code",
   "execution_count": null,
   "metadata": {
    "collapsed": true
   },
   "outputs": [],
   "source": []
  }
 ],
 "metadata": {
  "kernelspec": {
   "display_name": "Python [default]",
   "language": "python",
   "name": "python3"
  },
  "language_info": {
   "codemirror_mode": {
    "name": "ipython",
    "version": 3
   },
   "file_extension": ".py",
   "mimetype": "text/x-python",
   "name": "python",
   "nbconvert_exporter": "python",
   "pygments_lexer": "ipython3",
   "version": "3.5.2"
  }
 },
 "nbformat": 4,
 "nbformat_minor": 1
}
