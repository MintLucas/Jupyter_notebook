{
 "cells": [
  {
   "cell_type": "code",
   "execution_count": 1,
   "metadata": {
    "collapsed": false
   },
   "outputs": [
    {
     "name": "stderr",
     "output_type": "stream",
     "text": [
      "Using TensorFlow backend.\n"
     ]
    }
   ],
   "source": [
    "import keras\n",
    "import keras.layers as KL\n",
    "import keras.backend as K\n",
    "from keras.models import Model\n",
    "import numpy as np"
   ]
  },
  {
   "cell_type": "code",
   "execution_count": 2,
   "metadata": {
    "collapsed": true
   },
   "outputs": [],
   "source": [
    "def custom_loss1(y_true, y_pred):\n",
    "    y_true = K.reshape(y_true,(-1,2))\n",
    "    return K.mean(K.abs(y_true-y_pred))\n",
    "\n",
    "def custom_loss2(y_true, y_pred):\n",
    "    return K.mean(K.square(y_true-y_pred))"
   ]
  },
  {
   "cell_type": "code",
   "execution_count": 3,
   "metadata": {
    "collapsed": false
   },
   "outputs": [],
   "source": [
    "input_tensor1 = KL.Input((32,32,3))\n",
    "input_tensor2 = KL.Input((4,))\n",
    "input_taget2 = KL.Input((2,))\n",
    "\n",
    "x = KL.BatchNormalization(axis=-1)(input_tensor1)\n",
    "x = KL.Conv2D(16,(3,3),padding=\"same\")(x)\n",
    "x = KL.Activation(\"relu\")(x)\n",
    "x = KL.MaxPool2D(2)(x)\n",
    "x = KL.Conv2D(32,(3,3),padding=\"same\")(x)\n",
    "x = KL.Activation(\"relu\")(x)\n",
    "x = KL.MaxPool2D(2)(x)\n",
    "x = KL.Flatten()(x)\n",
    "x = KL.Dense(32)(x)\n",
    "x_out2 = KL.Dense(2, name=\"out2\")(x)\n",
    "\n",
    "y = KL.Dense(32)(input_tensor2)\n",
    "y = KL.Dense(2, name=\"out1\")(y)\n",
    "\n",
    "\n",
    "loss1 = KL.Lambda(lambda x: custom_loss1(*x), name=\"loss1\")([y, x_out2])\n",
    "loss2 = KL.Lambda(lambda x: custom_loss2(*x), name=\"loss2\")([input_taget2, y])\n",
    "\n",
    "model = Model([input_tensor1, input_tensor2, input_taget2],[x_out2, y, loss1, loss2])"
   ]
  },
  {
   "cell_type": "code",
   "execution_count": 4,
   "metadata": {
    "collapsed": false
   },
   "outputs": [
    {
     "name": "stdout",
     "output_type": "stream",
     "text": [
      "__________________________________________________________________________________________________\n",
      "Layer (type)                    Output Shape         Param #     Connected to                     \n",
      "==================================================================================================\n",
      "input_1 (InputLayer)            (None, 32, 32, 3)    0                                            \n",
      "__________________________________________________________________________________________________\n",
      "batch_normalization_1 (BatchNor (None, 32, 32, 3)    12          input_1[0][0]                    \n",
      "__________________________________________________________________________________________________\n",
      "conv2d_1 (Conv2D)               (None, 32, 32, 16)   448         batch_normalization_1[0][0]      \n",
      "__________________________________________________________________________________________________\n",
      "activation_1 (Activation)       (None, 32, 32, 16)   0           conv2d_1[0][0]                   \n",
      "__________________________________________________________________________________________________\n",
      "max_pooling2d_1 (MaxPooling2D)  (None, 16, 16, 16)   0           activation_1[0][0]               \n",
      "__________________________________________________________________________________________________\n",
      "conv2d_2 (Conv2D)               (None, 16, 16, 32)   4640        max_pooling2d_1[0][0]            \n",
      "__________________________________________________________________________________________________\n",
      "activation_2 (Activation)       (None, 16, 16, 32)   0           conv2d_2[0][0]                   \n",
      "__________________________________________________________________________________________________\n",
      "max_pooling2d_2 (MaxPooling2D)  (None, 8, 8, 32)     0           activation_2[0][0]               \n",
      "__________________________________________________________________________________________________\n",
      "flatten_1 (Flatten)             (None, 2048)         0           max_pooling2d_2[0][0]            \n",
      "__________________________________________________________________________________________________\n",
      "input_2 (InputLayer)            (None, 4)            0                                            \n",
      "__________________________________________________________________________________________________\n",
      "dense_1 (Dense)                 (None, 32)           65568       flatten_1[0][0]                  \n",
      "__________________________________________________________________________________________________\n",
      "dense_2 (Dense)                 (None, 32)           160         input_2[0][0]                    \n",
      "__________________________________________________________________________________________________\n",
      "out2 (Dense)                    (None, 2)            66          dense_1[0][0]                    \n",
      "__________________________________________________________________________________________________\n",
      "out1 (Dense)                    (None, 2)            66          dense_2[0][0]                    \n",
      "__________________________________________________________________________________________________\n",
      "input_3 (InputLayer)            (None, 2)            0                                            \n",
      "__________________________________________________________________________________________________\n",
      "loss1 (Lambda)                  ()                   0           out1[0][0]                       \n",
      "                                                                 out2[0][0]                       \n",
      "__________________________________________________________________________________________________\n",
      "loss2 (Lambda)                  ()                   0           input_3[0][0]                    \n",
      "                                                                 out1[0][0]                       \n",
      "==================================================================================================\n",
      "Total params: 70,960\n",
      "Trainable params: 70,954\n",
      "Non-trainable params: 6\n",
      "__________________________________________________________________________________________________\n"
     ]
    }
   ],
   "source": [
    "model.summary()"
   ]
  },
  {
   "cell_type": "code",
   "execution_count": 11,
   "metadata": {
    "collapsed": true
   },
   "outputs": [],
   "source": [
    "from keras.utils.vis_utils    import plot_model\n",
    "plot_model(model, to_file=\"model.png\",show_shapes=True)"
   ]
  },
  {
   "cell_type": "code",
   "execution_count": 5,
   "metadata": {
    "collapsed": false
   },
   "outputs": [],
   "source": [
    "loss_lay1 = model.get_layer(\"loss1\").output\n",
    "loss_lay2 = model.get_layer(\"loss2\").output\n",
    "\n",
    "model.add_loss(loss_lay1)\n",
    "model.add_loss(loss_lay2)"
   ]
  },
  {
   "cell_type": "code",
   "execution_count": 6,
   "metadata": {
    "collapsed": false
   },
   "outputs": [],
   "source": [
    "model.compile(optimizer=\"sgd\", loss=[None,None,None, None])"
   ]
  },
  {
   "cell_type": "code",
   "execution_count": 7,
   "metadata": {
    "collapsed": true
   },
   "outputs": [],
   "source": [
    "def data_produce(Num):\n",
    "    for i in range(Num):\n",
    "        yield [np.random.normal(1,1,(1,32,32,3)), np.random.normal(1,1,(1,4)), np.random.normal(1,1,(1,2))],[]"
   ]
  },
  {
   "cell_type": "code",
   "execution_count": 9,
   "metadata": {
    "collapsed": false
   },
   "outputs": [],
   "source": [
    "dataSet = data_produce(20000)"
   ]
  },
  {
   "cell_type": "code",
   "execution_count": 10,
   "metadata": {
    "collapsed": false,
    "scrolled": true
   },
   "outputs": [
    {
     "name": "stdout",
     "output_type": "stream",
     "text": [
      "Epoch 1/20\n",
      "1000/1000 [==============================] - 4s 4ms/step - loss: 1.3024\n",
      "Epoch 2/20\n",
      "1000/1000 [==============================] - 3s 3ms/step - loss: 1.0903\n",
      "Epoch 3/20\n",
      "1000/1000 [==============================] - 3s 3ms/step - loss: 1.0657\n",
      "Epoch 4/20\n",
      "1000/1000 [==============================] - 3s 3ms/step - loss: 1.0651\n",
      "Epoch 5/20\n",
      "1000/1000 [==============================] - 3s 3ms/step - loss: 1.0844\n",
      "Epoch 6/20\n",
      "1000/1000 [==============================] - 3s 3ms/step - loss: 1.0564\n",
      "Epoch 7/20\n",
      "1000/1000 [==============================] - 3s 3ms/step - loss: 1.0692\n",
      "Epoch 8/20\n",
      "1000/1000 [==============================] - 3s 3ms/step - loss: 1.0656\n",
      "Epoch 9/20\n",
      "1000/1000 [==============================] - 3s 3ms/step - loss: 1.0283\n",
      "Epoch 10/20\n",
      "1000/1000 [==============================] - 3s 3ms/step - loss: 1.0520\n",
      "Epoch 11/20\n",
      "1000/1000 [==============================] - 3s 3ms/step - loss: 0.9825\n",
      "Epoch 12/20\n",
      "1000/1000 [==============================] - 3s 3ms/step - loss: 1.0335\n",
      "Epoch 13/20\n",
      "1000/1000 [==============================] - 3s 3ms/step - loss: 1.0150\n",
      "Epoch 14/20\n",
      "1000/1000 [==============================] - 3s 3ms/step - loss: 1.0052\n",
      "Epoch 15/20\n",
      "1000/1000 [==============================] - 3s 3ms/step - loss: 1.0445\n",
      "Epoch 16/20\n",
      "1000/1000 [==============================] - 3s 3ms/step - loss: 0.9716\n",
      "Epoch 17/20\n",
      "1000/1000 [==============================] - 3s 3ms/step - loss: 1.0016\n",
      "Epoch 18/20\n",
      "1000/1000 [==============================] - 3s 3ms/step - loss: 1.0431\n",
      "Epoch 19/20\n",
      "1000/1000 [==============================] - 3s 3ms/step - loss: 0.9779\n",
      "Epoch 20/20\n",
      "1000/1000 [==============================] - 3s 3ms/step - loss: 1.0239\n"
     ]
    },
    {
     "data": {
      "text/plain": [
       "<keras.callbacks.History at 0x7f0fd86d8780>"
      ]
     },
     "execution_count": 10,
     "metadata": {},
     "output_type": "execute_result"
    }
   ],
   "source": [
    "model.fit_generator(dataSet, steps_per_epoch=1000, epochs=20)"
   ]
  },
  {
   "cell_type": "code",
   "execution_count": null,
   "metadata": {
    "collapsed": false
   },
   "outputs": [],
   "source": []
  },
  {
   "cell_type": "code",
   "execution_count": null,
   "metadata": {
    "collapsed": true
   },
   "outputs": [],
   "source": []
  }
 ],
 "metadata": {
  "anaconda-cloud": {},
  "kernelspec": {
   "display_name": "Python [default]",
   "language": "python",
   "name": "python3"
  },
  "language_info": {
   "codemirror_mode": {
    "name": "ipython",
    "version": 3
   },
   "file_extension": ".py",
   "mimetype": "text/x-python",
   "name": "python",
   "nbconvert_exporter": "python",
   "pygments_lexer": "ipython3",
   "version": "3.5.2"
  }
 },
 "nbformat": 4,
 "nbformat_minor": 1
}
