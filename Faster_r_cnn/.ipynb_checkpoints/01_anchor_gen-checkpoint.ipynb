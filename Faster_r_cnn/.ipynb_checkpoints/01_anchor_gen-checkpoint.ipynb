{
 "cells": [
  {
   "cell_type": "code",
   "execution_count": 1,
   "metadata": {
    "collapsed": true
   },
   "outputs": [],
   "source": [
    "import numpy as np\n",
    "import matplotlib.pyplot as plt\n",
    "import matplotlib.patches as patches\n",
    "%matplotlib inline"
   ]
  },
  {
   "cell_type": "code",
   "execution_count": 2,
   "metadata": {
    "collapsed": false
   },
   "outputs": [],
   "source": [
    "size_X = 16#feature map图像大小4*4\n",
    "size_Y = 16\n",
    "rpn_stride = 8#下采样比例\n",
    "\n",
    "scales = [1,2,8]#3个面积尺寸*3个长宽比\n",
    "rations = [0.5,1,2]#1:2&1:1&2:1"
   ]
  },
  {
   "cell_type": "code",
   "execution_count": 3,
   "metadata": {
    "collapsed": false
   },
   "outputs": [],
   "source": [
    "f_x = np.arange(size_X) * 8#投影到x轴可能取到的坐标数\n",
    "f_y = np.arange(size_Y) * 8#投影到原始图像，真正的锚点坐标\n",
    "#可以替代双重for循环\n",
    "F_x, F_y = np.meshgrid(f_x,f_y)#输入坐标向量返回坐标矩阵"
   ]
  },
  {
   "cell_type": "code",
   "execution_count": 4,
   "metadata": {
    "collapsed": false
   },
   "outputs": [
    {
     "data": {
      "text/plain": [
       "(array([[  0,   8,  16,  24,  32,  40,  48,  56,  64,  72,  80,  88,  96,\n",
       "         104, 112, 120],\n",
       "        [  0,   8,  16,  24,  32,  40,  48,  56,  64,  72,  80,  88,  96,\n",
       "         104, 112, 120],\n",
       "        [  0,   8,  16,  24,  32,  40,  48,  56,  64,  72,  80,  88,  96,\n",
       "         104, 112, 120],\n",
       "        [  0,   8,  16,  24,  32,  40,  48,  56,  64,  72,  80,  88,  96,\n",
       "         104, 112, 120],\n",
       "        [  0,   8,  16,  24,  32,  40,  48,  56,  64,  72,  80,  88,  96,\n",
       "         104, 112, 120],\n",
       "        [  0,   8,  16,  24,  32,  40,  48,  56,  64,  72,  80,  88,  96,\n",
       "         104, 112, 120],\n",
       "        [  0,   8,  16,  24,  32,  40,  48,  56,  64,  72,  80,  88,  96,\n",
       "         104, 112, 120],\n",
       "        [  0,   8,  16,  24,  32,  40,  48,  56,  64,  72,  80,  88,  96,\n",
       "         104, 112, 120],\n",
       "        [  0,   8,  16,  24,  32,  40,  48,  56,  64,  72,  80,  88,  96,\n",
       "         104, 112, 120],\n",
       "        [  0,   8,  16,  24,  32,  40,  48,  56,  64,  72,  80,  88,  96,\n",
       "         104, 112, 120],\n",
       "        [  0,   8,  16,  24,  32,  40,  48,  56,  64,  72,  80,  88,  96,\n",
       "         104, 112, 120],\n",
       "        [  0,   8,  16,  24,  32,  40,  48,  56,  64,  72,  80,  88,  96,\n",
       "         104, 112, 120],\n",
       "        [  0,   8,  16,  24,  32,  40,  48,  56,  64,  72,  80,  88,  96,\n",
       "         104, 112, 120],\n",
       "        [  0,   8,  16,  24,  32,  40,  48,  56,  64,  72,  80,  88,  96,\n",
       "         104, 112, 120],\n",
       "        [  0,   8,  16,  24,  32,  40,  48,  56,  64,  72,  80,  88,  96,\n",
       "         104, 112, 120],\n",
       "        [  0,   8,  16,  24,  32,  40,  48,  56,  64,  72,  80,  88,  96,\n",
       "         104, 112, 120]]),\n",
       " array([[  0,   0,   0,   0,   0,   0,   0,   0,   0,   0,   0,   0,   0,\n",
       "           0,   0,   0],\n",
       "        [  8,   8,   8,   8,   8,   8,   8,   8,   8,   8,   8,   8,   8,\n",
       "           8,   8,   8],\n",
       "        [ 16,  16,  16,  16,  16,  16,  16,  16,  16,  16,  16,  16,  16,\n",
       "          16,  16,  16],\n",
       "        [ 24,  24,  24,  24,  24,  24,  24,  24,  24,  24,  24,  24,  24,\n",
       "          24,  24,  24],\n",
       "        [ 32,  32,  32,  32,  32,  32,  32,  32,  32,  32,  32,  32,  32,\n",
       "          32,  32,  32],\n",
       "        [ 40,  40,  40,  40,  40,  40,  40,  40,  40,  40,  40,  40,  40,\n",
       "          40,  40,  40],\n",
       "        [ 48,  48,  48,  48,  48,  48,  48,  48,  48,  48,  48,  48,  48,\n",
       "          48,  48,  48],\n",
       "        [ 56,  56,  56,  56,  56,  56,  56,  56,  56,  56,  56,  56,  56,\n",
       "          56,  56,  56],\n",
       "        [ 64,  64,  64,  64,  64,  64,  64,  64,  64,  64,  64,  64,  64,\n",
       "          64,  64,  64],\n",
       "        [ 72,  72,  72,  72,  72,  72,  72,  72,  72,  72,  72,  72,  72,\n",
       "          72,  72,  72],\n",
       "        [ 80,  80,  80,  80,  80,  80,  80,  80,  80,  80,  80,  80,  80,\n",
       "          80,  80,  80],\n",
       "        [ 88,  88,  88,  88,  88,  88,  88,  88,  88,  88,  88,  88,  88,\n",
       "          88,  88,  88],\n",
       "        [ 96,  96,  96,  96,  96,  96,  96,  96,  96,  96,  96,  96,  96,\n",
       "          96,  96,  96],\n",
       "        [104, 104, 104, 104, 104, 104, 104, 104, 104, 104, 104, 104, 104,\n",
       "         104, 104, 104],\n",
       "        [112, 112, 112, 112, 112, 112, 112, 112, 112, 112, 112, 112, 112,\n",
       "         112, 112, 112],\n",
       "        [120, 120, 120, 120, 120, 120, 120, 120, 120, 120, 120, 120, 120,\n",
       "         120, 120, 120]]))"
      ]
     },
     "execution_count": 4,
     "metadata": {},
     "output_type": "execute_result"
    }
   ],
   "source": [
    "F_x,F_y#x和y一一组合16个点,x数组纵向copy,y横向copy"
   ]
  },
  {
   "cell_type": "code",
   "execution_count": 5,
   "metadata": {
    "collapsed": false
   },
   "outputs": [],
   "source": [
    "def anchor_gen(size_X,size_Y,rpn_stride,scales,rations):\n",
    "    #meshgrid_1，3*3\n",
    "    scales,rations = np.meshgrid(scales,rations)\n",
    "    scales,rations = scales.flatten(),rations.flatten()\n",
    "    scalesY = scales * np.sqrt(rations)#锚框的长宽\n",
    "    scalesX = scales / np.sqrt(rations)#/不太懂\n",
    "    \n",
    "    shiftX = np.arange(0,size_X) * rpn_stride#映射到原图则为锚点坐标\n",
    "    shiftY = np.arange(0,size_Y) * rpn_stride\n",
    "     #meshgrid_2，4*4\n",
    "    shiftX,shiftY = np.meshgrid(shiftX,shiftY)\n",
    "    \n",
    "    #有了锚点坐标再和锚框尺寸组合，4*4个锚点9个锚框\n",
    "     #meshgrid_3，16*9\n",
    "    centerX,anchorX = np.meshgrid(shiftX,scalesX)\n",
    "    centerY,anchorY = np.meshgrid(shiftY,scalesY)\n",
    "    #组合成真正的坐标，-1第一维任意，第二维表示两个坐标属性\n",
    "    anchor_center = np.stack([centerY,centerX],axis=2).reshape(-1,2)\n",
    "    anchor_size = np.stack([anchorY,anchorX],axis=2).reshape(-1,2)\n",
    "    #左上顶点坐标=中心坐标-0.5*size\n",
    "    boxes = np.concatenate([anchor_center-0.5*anchor_size,anchor_center+0.5*anchor_size],axis=1)\n",
    "    return boxes"
   ]
  },
  {
   "cell_type": "code",
   "execution_count": 6,
   "metadata": {
    "collapsed": false
   },
   "outputs": [
    {
     "data": {
      "text/plain": [
       "(2304, 4)"
      ]
     },
     "execution_count": 6,
     "metadata": {},
     "output_type": "execute_result"
    }
   ],
   "source": [
    "anchors = anchor_gen(size_X,size_Y,rpn_stride,scales,rations)\n",
    "anchors.shape#256*9，16*16是格点的数量"
   ]
  },
  {
   "cell_type": "code",
   "execution_count": 7,
   "metadata": {
    "collapsed": false
   },
   "outputs": [
    {
     "data": {
      "image/png": "[encoded data removed]",
      "text/plain": [
       "<Figure size 720x720 with 1 Axes>"
      ]
     },
     "metadata": {
      "needs_background": "light"
     },
     "output_type": "display_data"
    }
   ],
   "source": [
    "plt.figure(figsize=[10,10])\n",
    "img = np.ones((128,128,3))#定义一张白图\n",
    "plt.imshow(img)\n",
    "Axs = plt.gca()#get current Axs\n",
    "for i in range(anchors.shape[0]):\n",
    "    box = anchors[i]\n",
    "    rec = patches.Rectangle((box[0],box[1]),box[2]-box[0],box[3]-box[1],edgecolor=\"r\",facecolor='none')\n",
    "    Axs.add_patch(rec)"
   ]
  },
  {
   "cell_type": "code",
   "execution_count": 9,
   "metadata": {
    "collapsed": false
   },
   "outputs": [
    {
     "ename": "NameError",
     "evalue": "name 'anchor_center' is not defined",
     "output_type": "error",
     "traceback": [
      "\u001b[1;31m---------------------------------------------------------------------------\u001b[0m",
      "\u001b[1;31mNameError\u001b[0m                                 Traceback (most recent call last)",
      "\u001b[1;32m<ipython-input-9-394e820f60a1>\u001b[0m in \u001b[0;36m<module>\u001b[1;34m\u001b[0m\n\u001b[1;32m----> 1\u001b[1;33m \u001b[0manchor_center\u001b[0m\u001b[1;33m.\u001b[0m\u001b[0mshape\u001b[0m\u001b[1;33m\u001b[0m\u001b[0m\n\u001b[0m\u001b[0;32m      2\u001b[0m \u001b[0manchor_size\u001b[0m\u001b[1;33m.\u001b[0m\u001b[0mshape\u001b[0m\u001b[1;33m\u001b[0m\u001b[0m\n",
      "\u001b[1;31mNameError\u001b[0m: name 'anchor_center' is not defined"
     ]
    }
   ],
   "source": [
    "anchor_center.shape\n",
    "anchor_size.shape"
   ]
  },
  {
   "cell_type": "code",
   "execution_count": 33,
   "metadata": {
    "collapsed": false
   },
   "outputs": [
    {
     "data": {
      "text/plain": [
       "(9, 16)"
      ]
     },
     "execution_count": 33,
     "metadata": {},
     "output_type": "execute_result"
    }
   ],
   "source": [
    "centerX.shape#共有9*16个锚框，例如共有4*4个坐标点"
   ]
  },
  {
   "cell_type": "code",
   "execution_count": 17,
   "metadata": {
    "collapsed": false
   },
   "outputs": [
    {
     "ename": "SyntaxError",
     "evalue": "keyword can't be an expression (<ipython-input-17-ded45f6315ed>, line 17)",
     "output_type": "error",
     "traceback": [
      "\u001b[1;36m  File \u001b[1;32m\"<ipython-input-17-ded45f6315ed>\"\u001b[1;36m, line \u001b[1;32m17\u001b[0m\n\u001b[1;33m    boxes = np.concatenate([anchor_center-0.5*anchor_size,anchor_center+0.5*anchor_size].axis=1)\u001b[0m\n\u001b[1;37m                          ^\u001b[0m\n\u001b[1;31mSyntaxError\u001b[0m\u001b[1;31m:\u001b[0m keyword can't be an expression\n"
     ]
    }
   ],
   "source": [
    "scales,rations = np.meshgrid(scales,rations)\n",
    "scales,rations = scales.flatten(),rations.flatten()\n",
    "scalesY = scales * np.sqrt(rations)#锚框的长宽\n",
    "scalesX = scales * np.sqrt(rations)\n",
    "\n",
    "shiftX = np.arange(size_X) * 8#映射到原图则为锚点坐标\n",
    "shiftY = np.arange(size_Y) / 8\n",
    "shiftX,shiftY = np.meshgrid(shiftX,shiftY)#\n",
    "#有了锚点坐标再和锚框尺寸组合，4*4个锚点9个锚框\n",
    "centerX,anchorX = np.meshgrid(shiftX,scalesX)\n",
    "centerY,anchorY = np.meshgrid(shiftY,scalesY)\n",
    "\n",
    "#组合成真正的坐标，-1第一维任意，第二维表示两个坐标属性\n",
    "anchor_center = np.stack([centerX,centerY],axis=2).reshape(-1,2)\n",
    "anchor_size = np.stack([anchorX,anchorY],axis=2).reshape(-1,2)\n",
    "#左上顶点坐标=中心坐标-0.5*size,右下顶点坐标\n",
    "boxes = np.concatenate([anchor_center-0.5*anchor_size,anchor_center+0.5*anchor_size].axis=1)\n",
    "boxes"
   ]
  },
  {
   "cell_type": "code",
   "execution_count": 34,
   "metadata": {
    "collapsed": false
   },
   "outputs": [
    {
     "data": {
      "text/plain": [
       "array([[ 0,  0,  0,  0,  8,  8,  8,  8, 16, 16, 16, 16, 24, 24, 24, 24],\n",
       "       [ 0,  0,  0,  0,  8,  8,  8,  8, 16, 16, 16, 16, 24, 24, 24, 24],\n",
       "       [ 0,  0,  0,  0,  8,  8,  8,  8, 16, 16, 16, 16, 24, 24, 24, 24],\n",
       "       [ 0,  0,  0,  0,  8,  8,  8,  8, 16, 16, 16, 16, 24, 24, 24, 24],\n",
       "       [ 0,  0,  0,  0,  8,  8,  8,  8, 16, 16, 16, 16, 24, 24, 24, 24],\n",
       "       [ 0,  0,  0,  0,  8,  8,  8,  8, 16, 16, 16, 16, 24, 24, 24, 24],\n",
       "       [ 0,  0,  0,  0,  8,  8,  8,  8, 16, 16, 16, 16, 24, 24, 24, 24],\n",
       "       [ 0,  0,  0,  0,  8,  8,  8,  8, 16, 16, 16, 16, 24, 24, 24, 24],\n",
       "       [ 0,  0,  0,  0,  8,  8,  8,  8, 16, 16, 16, 16, 24, 24, 24, 24]])"
      ]
     },
     "execution_count": 34,
     "metadata": {},
     "output_type": "execute_result"
    }
   ],
   "source": [
    "centerX#锚点坐标有9个重复，但和9个尺寸组合即一一对应"
   ]
  },
  {
   "cell_type": "code",
   "execution_count": 23,
   "metadata": {
    "collapsed": false
   },
   "outputs": [
    {
     "data": {
      "text/plain": [
       "(array([2, 4, 8, 2, 4, 8, 2, 4, 8]),\n",
       " array([0.5, 0.5, 0.5, 1. , 1. , 1. , 2. , 2. , 2. ]))"
      ]
     },
     "execution_count": 23,
     "metadata": {},
     "output_type": "execute_result"
    }
   ],
   "source": [
    "scales,rations = np.meshgrid(scales,rations)\n",
    "scales,rations = scales.flatten(),rations.flatten()\n",
    "scales,rations"
   ]
  },
  {
   "cell_type": "code",
   "execution_count": 1,
   "metadata": {
    "collapsed": false
   },
   "outputs": [
    {
     "ename": "NameError",
     "evalue": "name 'anchor_gen' is not defined",
     "output_type": "error",
     "traceback": [
      "\u001b[1;31m---------------------------------------------------------------------------\u001b[0m",
      "\u001b[1;31mNameError\u001b[0m                                 Traceback (most recent call last)",
      "\u001b[1;32m<ipython-input-1-82cc8a3691b3>\u001b[0m in \u001b[0;36m<module>\u001b[1;34m\u001b[0m\n\u001b[1;32m----> 1\u001b[1;33m \u001b[0manchors\u001b[0m \u001b[1;33m=\u001b[0m \u001b[0manchor_gen\u001b[0m\u001b[1;33m(\u001b[0m\u001b[0msize_X\u001b[0m\u001b[1;33m,\u001b[0m\u001b[0msize_Y\u001b[0m\u001b[1;33m,\u001b[0m\u001b[0mrpn_stride\u001b[0m\u001b[1;33m,\u001b[0m\u001b[0mscales\u001b[0m\u001b[1;33m,\u001b[0m\u001b[0mrations\u001b[0m\u001b[1;33m)\u001b[0m\u001b[1;33m\u001b[0m\u001b[0m\n\u001b[0m\u001b[0;32m      2\u001b[0m \u001b[0manchors\u001b[0m\u001b[1;33m.\u001b[0m\u001b[0mshape\u001b[0m\u001b[1;33m\u001b[0m\u001b[0m\n",
      "\u001b[1;31mNameError\u001b[0m: name 'anchor_gen' is not defined"
     ]
    }
   ],
   "source": [
    "anchors = anchor_gen(size_X,size_Y,rpn_stride,scales,rations)\n",
    "anchors.shape"
   ]
  }
 ],
 "metadata": {
  "anaconda-cloud": {},
  "kernelspec": {
   "display_name": "Python [conda env:tensorflow]",
   "language": "python",
   "name": "conda-env-tensorflow-py"
  },
  "language_info": {
   "codemirror_mode": {
    "name": "ipython",
    "version": 3
   },
   "file_extension": ".py",
   "mimetype": "text/x-python",
   "name": "python",
   "nbconvert_exporter": "python",
   "pygments_lexer": "ipython3",
   "version": "3.6.2"
  }
 },
 "nbformat": 4,
 "nbformat_minor": 1
}
